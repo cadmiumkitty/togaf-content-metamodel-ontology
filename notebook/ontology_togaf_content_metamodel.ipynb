{
 "cells": [
  {
   "cell_type": "markdown",
   "metadata": {},
   "source": [
    "# TOGAF 9.2 Content Metamodel Ontology"
   ]
  },
  {
   "cell_type": "markdown",
   "metadata": {},
   "source": [
    "## Transform CSV into RDF"
   ]
  },
  {
   "cell_type": "code",
   "execution_count": null,
   "metadata": {},
   "outputs": [],
   "source": [
    "import re\n",
    "import pandas as pd\n",
    "from rdflib import Graph, Namespace, URIRef, Literal, BNode\n",
    "from rdflib.namespace import RDF, OWL, RDFS, SKOS, DCTERMS, NamespaceManager"
   ]
  },
  {
   "cell_type": "code",
   "execution_count": null,
   "metadata": {},
   "outputs": [],
   "source": [
    "# Currently only contains properties to simplify construction with Protege\n",
    "df = pd.read_csv('/notebook/ontology_togaf_content_metamodel.csv', index_col = '@id', keep_default_na = False)\n",
    "df"
   ]
  },
  {
   "cell_type": "code",
   "execution_count": null,
   "metadata": {},
   "outputs": [],
   "source": [
    "# Graph to store the set of schemas\n",
    "graph = Graph()\n",
    "\n",
    "# Declare all namespaces\n",
    "TOGAF = Namespace('http://www.semanticweb.org/ontologies/2020/4/OntologyTOGAFContentMetamodel.owl#')\n",
    "\n",
    "# Bind namespaces for clean serialization\n",
    "namespace_manager = NamespaceManager(graph)\n",
    "namespace_manager.bind('rdfs', RDFS, override = False)\n",
    "namespace_manager.bind('skos', SKOS, override = False)\n",
    "namespace_manager.bind('owl', OWL, override = False)\n",
    "namespace_manager.bind('dcterms', DCTERMS, override = False)\n",
    "namespace_manager.bind('togaf', TOGAF, override = False)"
   ]
  },
  {
   "cell_type": "code",
   "execution_count": null,
   "metadata": {},
   "outputs": [],
   "source": [
    "# RdfLib gives back prefixes as a generator, which is inconvenient to work with when parsing the \n",
    "prefixes = {}\n",
    "for prefix, uri in namespace_manager.namespaces():\n",
    "    prefixes[prefix] = uri\n",
    "prefixes"
   ]
  },
  {
   "cell_type": "code",
   "execution_count": null,
   "metadata": {},
   "outputs": [],
   "source": [
    "# Simple definitions of the curie and uri since we know what is in the dataset\n",
    "curie = re.compile('^\\w*:\\w*$')\n",
    "uri = re.compile('^http[s]?://.*$')"
   ]
  },
  {
   "cell_type": "code",
   "execution_count": null,
   "metadata": {},
   "outputs": [],
   "source": [
    "# Define simple function to transform Pandas value into RdfLib Node (eitehr Literal or URIRef)\n",
    "# taking declared prefixes into account\n",
    "# We assume that all literals are strings for now, in default language\n",
    "def getNode(value):\n",
    "    if (curie.match(value)):\n",
    "        prefix, reference = value.split(':')\n",
    "        uriref = ''.join((prefixes[prefix], reference))\n",
    "        return URIRef(uriref)\n",
    "    elif uri.match(value):\n",
    "        return URIRef(value)\n",
    "    else:\n",
    "        return Literal(value)"
   ]
  },
  {
   "cell_type": "code",
   "execution_count": null,
   "metadata": {},
   "outputs": [],
   "source": [
    "for (index, series) in df.iterrows():\n",
    "    for (column, value) in series.iteritems():\n",
    "        if value:\n",
    "            graph.add((getNode(index),\n",
    "                   getNode(column),\n",
    "                   getNode(value)))"
   ]
  },
  {
   "cell_type": "code",
   "execution_count": null,
   "metadata": {},
   "outputs": [],
   "source": [
    "# Serialize into ttl\n",
    "ttl = graph.serialize(format = 'turtle', indent = 2)\n",
    "ttl"
   ]
  },
  {
   "cell_type": "code",
   "execution_count": null,
   "metadata": {},
   "outputs": [],
   "source": [
    "# Write out ttl into a file\n",
    "ttl_file_name = '/metamodel/OntologyTOGAFContentMetamodelV2.ttl'\n",
    "with open(ttl_file_name,'wb') as ttl_file:\n",
    "    ttl_file.write(ttl)"
   ]
  }
 ],
 "metadata": {
  "kernelspec": {
   "display_name": "conda-env-notebook",
   "language": "python",
   "name": "conda-env-notebook"
  },
  "language_info": {
   "codemirror_mode": {
    "name": "ipython",
    "version": 3
   },
   "file_extension": ".py",
   "mimetype": "text/x-python",
   "name": "python",
   "nbconvert_exporter": "python",
   "pygments_lexer": "ipython3",
   "version": "3.6.10"
  }
 },
 "nbformat": 4,
 "nbformat_minor": 2
}
